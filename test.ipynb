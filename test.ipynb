{
 "metadata": {
  "language_info": {
   "codemirror_mode": {
    "name": "ipython",
    "version": 3
   },
   "file_extension": ".py",
   "mimetype": "text/x-python",
   "name": "python",
   "nbconvert_exporter": "python",
   "pygments_lexer": "ipython3",
   "version": "3.7.10"
  },
  "orig_nbformat": 2,
  "kernelspec": {
   "name": "python3710jvsc74a57bd0af6e1fd99af500b6cd59bc54ea087bf5622814cc313609fa1d1b204ebac00065",
   "display_name": "Python 3.7.10 64-bit ('pyuvdata-test': conda)"
  },
  "metadata": {
   "interpreter": {
    "hash": "af6e1fd99af500b6cd59bc54ea087bf5622814cc313609fa1d1b204ebac00065"
   }
  }
 },
 "nbformat": 4,
 "nbformat_minor": 2,
 "cells": [
  {
   "source": [
    "## Test for converting SMA MIR data to a Measurement Set using pyuvdata ##\n",
    "\n"
   ],
   "cell_type": "markdown",
   "metadata": {}
  },
  {
   "cell_type": "code",
   "execution_count": null,
   "metadata": {},
   "outputs": [],
   "source": [
    "from pathlib import Path\n",
    "from pyuvdata import UVData\n",
    "\n",
    "from pyuvdata.data import DATA_PATH\n",
    "\n",
    "data_path = Path(DATA_PATH)"
   ]
  },
  {
   "cell_type": "code",
   "execution_count": null,
   "metadata": {},
   "outputs": [],
   "source": [
    "UV = UVData()"
   ]
  },
  {
   "cell_type": "code",
   "execution_count": null,
   "metadata": {},
   "outputs": [],
   "source": [
    "hasattr(UV, 'write_ms')"
   ]
  },
  {
   "cell_type": "code",
   "execution_count": null,
   "metadata": {},
   "outputs": [],
   "source": [
    "mir_test_filename = data_path / 'sma_test.mir'\n",
    "mir_test_filename"
   ]
  },
  {
   "cell_type": "code",
   "execution_count": null,
   "metadata": {},
   "outputs": [],
   "source": [
    "UV.read(mir_test_filename)"
   ]
  },
  {
   "cell_type": "code",
   "execution_count": null,
   "metadata": {},
   "outputs": [],
   "source": [
    "ms_test_filename = data_path / 'sma_test.ms'\n",
    "\n",
    "# UV.write_ms(ms_test_filename)\n",
    "\n",
    "# casacore can't handle a PosixPath.\n",
    "# Convert to a string\n",
    "UV.write_ms(str(ms_test_filename))\n"
   ]
  },
  {
   "cell_type": "code",
   "execution_count": null,
   "metadata": {},
   "outputs": [],
   "source": [
    "UV_ms = UVData()\n",
    "UV_ms.read(str(ms_test_filename))"
   ]
  },
  {
   "cell_type": "code",
   "execution_count": null,
   "metadata": {},
   "outputs": [],
   "source": [
    "UV_ms.ant_1_array"
   ]
  },
  {
   "cell_type": "code",
   "execution_count": null,
   "metadata": {},
   "outputs": [],
   "source": [
    "UV.ant_1_array"
   ]
  },
  {
   "source": [
    "Ok. This is minimally working, but contains no round-trip consistency check."
   ],
   "cell_type": "markdown",
   "metadata": {}
  },
  {
   "cell_type": "code",
   "execution_count": null,
   "metadata": {},
   "outputs": [],
   "source": []
  }
 ]
}